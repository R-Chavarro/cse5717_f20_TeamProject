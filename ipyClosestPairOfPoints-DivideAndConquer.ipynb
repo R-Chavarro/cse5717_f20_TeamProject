{
 "cells": [
  {
   "cell_type": "markdown",
   "metadata": {},
   "source": [
    "# Divide and Conquer Algorithm\n",
    "<p>\n",
    "    Optimal Algorithm\n",
    "</p>"
   ]
  },
  {
   "cell_type": "code",
   "execution_count": 1,
   "metadata": {},
   "outputs": [],
   "source": [
    "import os\n",
    "import sys\n",
    "import time\n",
    "import datetime\n",
    "import math\n",
    "import pandas as pd"
   ]
  },
  {
   "cell_type": "markdown",
   "metadata": {},
   "source": [
    "### Read data from file"
   ]
  },
  {
   "cell_type": "code",
   "execution_count": 2,
   "metadata": {},
   "outputs": [],
   "source": [
    "allStarbucksLocations = pd.read_excel(open('./data/Data.xlsx','rb'),sheet_name='Sheet1')"
   ]
  },
  {
   "cell_type": "markdown",
   "metadata": {},
   "source": [
    "### Data Cleanup\n",
    "\n",
    "##### Use to get list of columns from data frame\n",
    "```python\n",
    "list(allStarbucksLocations.columns)\n",
    "```"
   ]
  },
  {
   "cell_type": "code",
   "execution_count": 3,
   "metadata": {},
   "outputs": [
    {
     "data": {
      "text/plain": [
       "(17774, 3)"
      ]
     },
     "execution_count": 3,
     "metadata": {},
     "output_type": "execute_result"
    }
   ],
   "source": [
    "allStarbucksLocations = allStarbucksLocations[allStarbucksLocations[\"Brand\"] == \"Starbucks\"]\n",
    "coordinates = allStarbucksLocations[[\"Store Number\",\"Longitude\",\"Latitude\"]]\n",
    "coordinates.shape"
   ]
  },
  {
   "cell_type": "markdown",
   "metadata": {},
   "source": [
    "#### Drop Null Longitude & Latitude Values"
   ]
  },
  {
   "cell_type": "code",
   "execution_count": 4,
   "metadata": {},
   "outputs": [
    {
     "data": {
      "text/plain": [
       "(17774, 3)"
      ]
     },
     "execution_count": 4,
     "metadata": {},
     "output_type": "execute_result"
    }
   ],
   "source": [
    "coordinates = coordinates.dropna(subset=[\"Longitude\",\"Latitude\"])\n",
    "coordinates.shape"
   ]
  },
  {
   "cell_type": "markdown",
   "metadata": {},
   "source": [
    "#### Drop Duplicate Longitude & Latitude Values"
   ]
  },
  {
   "cell_type": "code",
   "execution_count": 5,
   "metadata": {},
   "outputs": [
    {
     "data": {
      "text/plain": [
       "(17774, 3)"
      ]
     },
     "execution_count": 5,
     "metadata": {},
     "output_type": "execute_result"
    }
   ],
   "source": [
    "coordinates.drop_duplicates(subset=[\"Longitude\",\"Latitude\"],keep=\"first\",inplace=True)\n",
    "coordinates.shape"
   ]
  },
  {
   "cell_type": "markdown",
   "metadata": {},
   "source": [
    "#### Sort DataFrame on Longitude"
   ]
  },
  {
   "cell_type": "code",
   "execution_count": 6,
   "metadata": {},
   "outputs": [],
   "source": [
    "sortedCoordinates = coordinates.sort_values(by=['Longitude'])"
   ]
  },
  {
   "cell_type": "markdown",
   "metadata": {},
   "source": [
    "### Convert dataframe to tuple"
   ]
  },
  {
   "cell_type": "code",
   "execution_count": 7,
   "metadata": {},
   "outputs": [],
   "source": [
    "coordinatesTuple = [tuple(x) for x in sortedCoordinates.values]"
   ]
  },
  {
   "cell_type": "markdown",
   "metadata": {},
   "source": [
    "### Split into two sets"
   ]
  },
  {
   "cell_type": "code",
   "execution_count": 8,
   "metadata": {},
   "outputs": [],
   "source": [
    "P1 = round(len(coordinatesTuple)/2)\n",
    "coordinatesTuple_Set1 = coordinatesTuple[:P1]"
   ]
  },
  {
   "cell_type": "code",
   "execution_count": 9,
   "metadata": {},
   "outputs": [],
   "source": [
    "P2 = len(coordinatesTuple)\n",
    "coordinatesTuple_Set2 = coordinatesTuple[P1:P2]"
   ]
  },
  {
   "cell_type": "markdown",
   "metadata": {},
   "source": [
    "### Define a function that returns a set of store pairs"
   ]
  },
  {
   "cell_type": "code",
   "execution_count": 10,
   "metadata": {},
   "outputs": [],
   "source": [
    "def findUniqueStores(pairs):\n",
    "    listOfPairs = []\n",
    "    \n",
    "    for c1 in range(len(pairs)):\n",
    "        for c2 in range(len(pairs)):\n",
    "            if ( c1 == c2 ):\n",
    "                pass\n",
    "            else:\n",
    "                orderedPair = ( c1 , c2 )                \n",
    "                listOfPairs.append(orderedPair)\n",
    "    return listOfPairs"
   ]
  },
  {
   "cell_type": "markdown",
   "metadata": {},
   "source": [
    "### Define function: euclidean_distance"
   ]
  },
  {
   "cell_type": "code",
   "execution_count": 11,
   "metadata": {},
   "outputs": [],
   "source": [
    "def euclidean_distance(value1, value2):\n",
    "    distLongitude = (( value1[1] - value2[1] )**2)\n",
    "    distLatitude = (( value1[2] - value2[2] )**2)\n",
    "    \n",
    "    return ( value1[0] , value2[0] , distLongitude , distLatitude )"
   ]
  },
  {
   "cell_type": "markdown",
   "metadata": {},
   "source": [
    "### Combine the two functions to get euclidean distance of unique stores"
   ]
  },
  {
   "cell_type": "code",
   "execution_count": 12,
   "metadata": {},
   "outputs": [],
   "source": [
    "def findMinDistance(data):\n",
    "    global minDistance\n",
    "    global newTuple\n",
    "    newTuple = []\n",
    "    iteration = 0\n",
    "    for s in findUniqueStores(data):\n",
    "        \n",
    "        d = euclidean_distance( data[s[0]] , data[s[1]] )\n",
    "        \n",
    "        if iteration == 0:\n",
    "            minDist = math.sqrt( d[2] + d[3] )\n",
    "            minDistance = d\n",
    "            \n",
    "            newTuple.append((iteration,d[0],d[1],d[2],d[3],minDist))\n",
    "            \n",
    "        else:\n",
    "            dist = math.sqrt( d[2] + d[3] )\n",
    "            \n",
    "            newTuple.append((iteration,d[0],d[1],d[2],d[3],minDist))\n",
    "            \n",
    "            if ( dist <= minDist ):\n",
    "                minDist = dist\n",
    "                minDistance = d\n",
    "            else:\n",
    "                pass\n",
    "        \n",
    "        iteration += 1\n",
    "        \n",
    "    print(\"Number of Inputs: {0}\".format(len(data)))\n",
    "    print(\"Number of Comparisons: {0}\".format(iteration))\n",
    "    print(\"Closest Starbucks Stores: Store Numbers {0} and {1}\".format(minDistance[0],minDistance[1]))\n",
    "    print(\"Longitude Distance: {:.5f}, Latitude Distance: {:.5f}\".format(minDistance[2],minDistance[3]))\n",
    "    return minDistance"
   ]
  },
  {
   "cell_type": "markdown",
   "metadata": {},
   "source": [
    "### Set 1 Data"
   ]
  },
  {
   "cell_type": "code",
   "execution_count": 13,
   "metadata": {},
   "outputs": [
    {
     "name": "stdout",
     "output_type": "stream",
     "text": [
      "Number of Inputs: 8887\n",
      "Number of Comparisons: 78969882\n",
      "Closest Starbucks Stores: Store Numbers 8485-57681 and 8428-28454\n",
      "Longitude Distance: 0.00010, Latitude Distance: 0.00000\n",
      "Time taken:0:01:22.370090\n"
     ]
    }
   ],
   "source": [
    "start_time = time.time()\n",
    "minDistance_Set1 = findMinDistance(coordinatesTuple_Set1)\n",
    "distance_Set1 = math.sqrt( minDistance_Set1[2] + minDistance_Set1[3] )\n",
    "newTuple_Set1 = newTuple\n",
    "end_time = time.time()\n",
    "timeToComputeSet1 = datetime.timedelta(seconds=(end_time - start_time))\n",
    "print(\"Time taken:{0}\".format(timeToComputeSet1))"
   ]
  },
  {
   "cell_type": "markdown",
   "metadata": {},
   "source": [
    "### Set 2 Data"
   ]
  },
  {
   "cell_type": "code",
   "execution_count": 14,
   "metadata": {},
   "outputs": [
    {
     "name": "stdout",
     "output_type": "stream",
     "text": [
      "Number of Inputs: 8887\n",
      "Number of Comparisons: 78969882\n",
      "Closest Starbucks Stores: Store Numbers 25282-240406 and 25278-240393\n",
      "Longitude Distance: 0.00010, Latitude Distance: 0.00000\n",
      "Time taken:0:01:21.893708\n"
     ]
    }
   ],
   "source": [
    "start_time = time.time()\n",
    "minDistance_Set2 = findMinDistance(coordinatesTuple_Set2)\n",
    "distance_Set2 = math.sqrt( minDistance_Set2[2] + minDistance_Set2[3] )\n",
    "newTuple_Set2 = newTuple\n",
    "end_time = time.time()\n",
    "timeToComputeSet2 = datetime.timedelta(seconds=(end_time - start_time))\n",
    "print(\"Time taken:{0}\".format(timeToComputeSet2))"
   ]
  },
  {
   "cell_type": "markdown",
   "metadata": {},
   "source": [
    "### Compare the two sets of data\n",
    "Set the smallest euclidean distance as the mininum distance"
   ]
  },
  {
   "cell_type": "code",
   "execution_count": 15,
   "metadata": {},
   "outputs": [
    {
     "name": "stdout",
     "output_type": "stream",
     "text": [
      "Store Numbers 25282-240406 and 25278-240393\n",
      "Longitude Distance:0.00010\n",
      "Latitude Distance: 0.00000\n",
      "Total Time:0:02:44.264298\n"
     ]
    }
   ],
   "source": [
    "start_time = time.time()\n",
    "if distance_Set1 < distance_Set2:\n",
    "    dataSummary = newTuple_Set1\n",
    "    mindis = distance_Set1\n",
    "    closestStores = minDistance_Set1\n",
    "    \n",
    "    print(\"Store Numbers {0} and {1}\".format(minDistance_Set1[0],minDistance_Set1[1]))\n",
    "    print(\"Longitude Distance: {:.5f}\".format(minDistance_Set1[2]))\n",
    "    print(\"Latitude Distance: {:.5f}\".format(minDistance_Set1[3]))\n",
    "\n",
    "else:\n",
    "    dataSummary = newTuple_Set2\n",
    "    mindis = distance_Set2\n",
    "    closestStores = minDistance_Set2\n",
    "    \n",
    "    print(\"Store Numbers {0} and {1}\".format(minDistance_Set2[0],minDistance_Set2[1]))\n",
    "    print(\"Longitude Distance:{:.5f}\".format(minDistance_Set2[2]))\n",
    "    print(\"Latitude Distance: {:.5f}\".format(minDistance_Set2[3]))\n",
    "    \n",
    "end_time = time.time()\n",
    "timeToCompareDatasets = datetime.timedelta(seconds=(end_time - start_time))\n",
    "cumulativeTime = timeToComputeSet1 + timeToComputeSet2 + timeToCompareDatasets\n",
    "print(\"Total Time:{0}\".format(cumulativeTime))"
   ]
  },
  {
   "cell_type": "markdown",
   "metadata": {},
   "source": [
    "### Determine the upper and lower bounds"
   ]
  },
  {
   "cell_type": "code",
   "execution_count": 16,
   "metadata": {},
   "outputs": [
    {
     "name": "stdout",
     "output_type": "stream",
     "text": [
      "The minimum distance recorded is: 0.009999999999990905\n",
      "The longitudnal midpoint is: -82.4900000\n"
     ]
    }
   ],
   "source": [
    "start_time = time.time()\n",
    "LongitudeMid = coordinatesTuple[P1][1]\n",
    "print(\"The minimum distance recorded is: {0}\".format(mindis))\n",
    "print(\"The longitudnal midpoint is: {:.7f}\".format(LongitudeMid))"
   ]
  },
  {
   "cell_type": "code",
   "execution_count": 17,
   "metadata": {},
   "outputs": [],
   "source": [
    "for i in range(P1):\n",
    "    j = P1 - i    \n",
    "    if LongitudeMid - coordinatesTuple[j][1] < mindis:\n",
    "        pass\n",
    "    else:\n",
    "        Lowerbound = j\n",
    "        return_i = P1 - 1\n",
    "        break"
   ]
  },
  {
   "cell_type": "code",
   "execution_count": 18,
   "metadata": {},
   "outputs": [],
   "source": [
    "for i in range(P1,P2):\n",
    "    if coordinatesTuple[i][1] - LongitudeMid < mindis:\n",
    "        pass\n",
    "    else:\n",
    "        Upperbound = i\n",
    "        break"
   ]
  },
  {
   "cell_type": "code",
   "execution_count": 19,
   "metadata": {},
   "outputs": [
    {
     "name": "stdout",
     "output_type": "stream",
     "text": [
      "Lowerbound value is: 8886\n",
      "Upperbound value is: 8892\n",
      "Total Time:0:02:44.311335\n"
     ]
    }
   ],
   "source": [
    "end_time = time.time()\n",
    "timeToDetermineUpperLowerBound = datetime.timedelta(seconds=(end_time - start_time))\n",
    "cumulativeTime = timeToComputeSet1 + timeToComputeSet2 + timeToCompareDatasets + timeToDetermineUpperLowerBound\n",
    "print(\"Lowerbound value is: {0}\".format(Lowerbound))\n",
    "print(\"Upperbound value is: {0}\".format(Upperbound))\n",
    "print(\"Total Time:{0}\".format(cumulativeTime))"
   ]
  },
  {
   "cell_type": "markdown",
   "metadata": {},
   "source": [
    "### Find shortest distance in new array"
   ]
  },
  {
   "cell_type": "code",
   "execution_count": 34,
   "metadata": {},
   "outputs": [
    {
     "name": "stdout",
     "output_type": "stream",
     "text": [
      "Total Time:0:02:44.311335\n",
      "The Closest Starbucks stores are 25282-240406 and 25278-240393\n"
     ]
    }
   ],
   "source": [
    "start_time = time.time()\n",
    "for i in range(Lowerbound,Upperbound+1):\n",
    "    Lng1 = coordinatesTuple[i][1]\n",
    "    Lat1 = coordinatesTuple[i][2]\n",
    "    \n",
    "    for j in range(i + 1, Upperbound + 1):        \n",
    "        Lng2 = coordinatesTuple[j][1]\n",
    "        Lat2 = coordinatesTuple[j][2]\n",
    "        \n",
    "        dis = math.sqrt(((Lng1 - Lng2)**2) + ((Lat1 - Lat2)**2))\n",
    "                \n",
    "        if dis <= mindis:\n",
    "            mindis = dis            \n",
    "            Store1 = coordinatesTuple[i]\n",
    "            Store2 = coordinatesTuple[j]\n",
    "        else:\n",
    "            pass\n",
    "end_time = time.time()\n",
    "timeToDetermineShortestDistance = datetime.timedelta(seconds=(end_time - start_time))\n",
    "cumulativeTime = timeToComputeSet1 + \\\n",
    "                 timeToComputeSet2 + \\\n",
    "                 timeToCompareDatasets +\\\n",
    "                 timeToDetermineUpperLowerBound + \\\n",
    "                 timeToDetermineShortestDistance\n",
    "\n",
    "try: Store1\n",
    "except NameError: Store1 = closestStores[0]\n",
    "\n",
    "try: Store2\n",
    "except NameError: Store2 = closestStores[1]\n",
    "\n",
    "print(\"Total Time:{0}\".format(cumulativeTime))\n",
    "print(\"The Closest Starbucks stores are {0} and {1}\".format(Store1,Store2))"
   ]
  }
 ],
 "metadata": {
  "kernelspec": {
   "display_name": "Python 3",
   "language": "python",
   "name": "python3"
  },
  "language_info": {
   "codemirror_mode": {
    "name": "ipython",
    "version": 3
   },
   "file_extension": ".py",
   "mimetype": "text/x-python",
   "name": "python",
   "nbconvert_exporter": "python",
   "pygments_lexer": "ipython3",
   "version": "3.8.4"
  }
 },
 "nbformat": 4,
 "nbformat_minor": 4
}
