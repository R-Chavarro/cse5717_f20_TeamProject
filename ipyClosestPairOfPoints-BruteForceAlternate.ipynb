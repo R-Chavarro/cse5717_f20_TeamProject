{
 "cells": [
  {
   "cell_type": "markdown",
   "metadata": {},
   "source": [
    "# Brute Force Alternative Algorithm\n",
    "\n",
    "<p>\n",
    "    perform n^2 / 2 calculations\n",
    "</p>"
   ]
  },
  {
   "cell_type": "code",
   "execution_count": 1,
   "metadata": {},
   "outputs": [],
   "source": [
    "import os\n",
    "import sys\n",
    "import time\n",
    "import datetime\n",
    "import math\n",
    "import pandas as pd"
   ]
  },
  {
   "cell_type": "markdown",
   "metadata": {},
   "source": [
    "### Read in Data from CSV"
   ]
  },
  {
   "cell_type": "code",
   "execution_count": 2,
   "metadata": {},
   "outputs": [],
   "source": [
    "allStarbucksLocations = pd.read_excel(open('./data/Data.xlsx','rb'),sheet_name='Sheet1')"
   ]
  },
  {
   "cell_type": "markdown",
   "metadata": {},
   "source": [
    "### Data Cleanup\n",
    "\n",
    "##### Use to get list of columns from data frame\n",
    "```python\n",
    "list(allStarbucksLocations.columns)\n",
    "```"
   ]
  },
  {
   "cell_type": "code",
   "execution_count": 3,
   "metadata": {},
   "outputs": [
    {
     "data": {
      "text/plain": [
       "(17774, 3)"
      ]
     },
     "execution_count": 3,
     "metadata": {},
     "output_type": "execute_result"
    }
   ],
   "source": [
    "allStarbucksLocations = allStarbucksLocations[allStarbucksLocations[\"Brand\"] == \"Starbucks\"]\n",
    "coordinates = allStarbucksLocations[[\"Store Number\",\"Latitude\",\"Longitude\"]]\n",
    "coordinates.shape"
   ]
  },
  {
   "cell_type": "markdown",
   "metadata": {},
   "source": [
    "#### Drop Null Longitude & Latitude Values"
   ]
  },
  {
   "cell_type": "code",
   "execution_count": 4,
   "metadata": {
    "scrolled": true
   },
   "outputs": [
    {
     "data": {
      "text/plain": [
       "(17774, 3)"
      ]
     },
     "execution_count": 4,
     "metadata": {},
     "output_type": "execute_result"
    }
   ],
   "source": [
    "coordinates = coordinates.dropna(subset=[\"Longitude\",\"Latitude\"])\n",
    "coordinates.shape"
   ]
  },
  {
   "cell_type": "markdown",
   "metadata": {},
   "source": [
    "#### Drop Duplicate Longitude & Latitude Values"
   ]
  },
  {
   "cell_type": "code",
   "execution_count": 5,
   "metadata": {},
   "outputs": [
    {
     "data": {
      "text/plain": [
       "(17774, 3)"
      ]
     },
     "execution_count": 5,
     "metadata": {},
     "output_type": "execute_result"
    }
   ],
   "source": [
    "coordinates.drop_duplicates(subset=[\"Longitude\",\"Latitude\"],keep=\"first\",inplace=True)\n",
    "coordinates.shape"
   ]
  },
  {
   "cell_type": "markdown",
   "metadata": {},
   "source": [
    "### Sort DataFrame on Longitude"
   ]
  },
  {
   "cell_type": "code",
   "execution_count": 6,
   "metadata": {},
   "outputs": [],
   "source": [
    "sortedCoordinates = coordinates.sort_values(by=['Longitude'])"
   ]
  },
  {
   "cell_type": "markdown",
   "metadata": {},
   "source": [
    "### Convert dataframe to tuple"
   ]
  },
  {
   "cell_type": "code",
   "execution_count": 7,
   "metadata": {},
   "outputs": [],
   "source": [
    "coordinatesTuple = [tuple(x) for x in sortedCoordinates.values]"
   ]
  },
  {
   "cell_type": "markdown",
   "metadata": {},
   "source": [
    "### Define a function that returns a set of store pairs"
   ]
  },
  {
   "cell_type": "code",
   "execution_count": 8,
   "metadata": {},
   "outputs": [],
   "source": [
    "def findUniqueStores(pairs):\n",
    "    listOfPairs = []\n",
    "    \n",
    "    for c1 in range(len(pairs)):\n",
    "        for c2 in range(len(pairs)):\n",
    "            if ( c1 == c2 ):\n",
    "                pass\n",
    "            else:\n",
    "                orderedPair = ( c1 , c2 )\n",
    "                listOfPairs.append(orderedPair)\n",
    "    return set([tuple(sorted(i)) for i in listOfPairs])"
   ]
  },
  {
   "cell_type": "markdown",
   "metadata": {},
   "source": [
    "### Define function: euclidean_distance"
   ]
  },
  {
   "cell_type": "code",
   "execution_count": 9,
   "metadata": {},
   "outputs": [],
   "source": [
    "def euclidean_distance(value1, value2):\n",
    "    distLongitude = (( value1[1] - value2[1] )**2)\n",
    "    distLatitude = (( value1[2] - value2[2] )**2)\n",
    "    \n",
    "    return ( value1[0] , value2[0] , distLongitude , distLatitude )"
   ]
  },
  {
   "cell_type": "markdown",
   "metadata": {},
   "source": [
    "### Combine the two functions to get euclidean distance of unique stores"
   ]
  },
  {
   "cell_type": "code",
   "execution_count": 13,
   "metadata": {},
   "outputs": [],
   "source": [
    "def findMinDistance(data):\n",
    "    iteration = 0\n",
    "    for s in findUniqueStores(data):\n",
    "        \n",
    "        d = euclidean_distance( data[s[0]] , data[s[1]] )\n",
    "        \n",
    "        if iteration == 0:\n",
    "            minDist = math.sqrt( d[2] + d[3] )\n",
    "            minDistance = d\n",
    "        else:\n",
    "            dist = math.sqrt( d[2] + d[3] )\n",
    "            if ( dist <= minDist ):\n",
    "                minDist = dist\n",
    "                minDistance = d\n",
    "            else:\n",
    "                pass        \n",
    "        iteration += 1\n",
    "        \n",
    "    print(\"Number of Inputs: {0}\".format(len(data)))\n",
    "    print(\"Number of Comparisons: {0}\".format(iteration))\n",
    "    print(\"Closest Starbucks Stores: Store Numbers {0} and {1}\".format(minDistance[0],minDistance[1]))\n",
    "    print(\"Longitude Distance: {:.5f}, Latitude Distance: {:.5f}\".format(minDistance[2],minDistance[3]))\n",
    "    return minDistance"
   ]
  },
  {
   "cell_type": "markdown",
   "metadata": {},
   "source": [
    "### Result"
   ]
  },
  {
   "cell_type": "code",
   "execution_count": 14,
   "metadata": {},
   "outputs": [
    {
     "name": "stdout",
     "output_type": "stream",
     "text": [
      "Number of Inputs: 17774\n",
      "Number of Comparisons: 157948651\n",
      "Closest Starbucks Stores: Store Numbers 13213-100434 and 76362-97182\n",
      "Longitude Distance: 0.00000, Latitude Distance: 0.00010\n",
      "Time taken:0:09:15.027328\n"
     ]
    }
   ],
   "source": [
    "start_time = time.time()\n",
    "findMinDistance(coordinatesTuple)\n",
    "end_time = time.time()\n",
    "print(\"Time taken:{0}\".format(datetime.timedelta(seconds=(end_time - start_time))))"
   ]
  }
 ],
 "metadata": {
  "kernelspec": {
   "display_name": "Python 3",
   "language": "python",
   "name": "python3"
  },
  "language_info": {
   "codemirror_mode": {
    "name": "ipython",
    "version": 3
   },
   "file_extension": ".py",
   "mimetype": "text/x-python",
   "name": "python",
   "nbconvert_exporter": "python",
   "pygments_lexer": "ipython3",
   "version": "3.8.4"
  }
 },
 "nbformat": 4,
 "nbformat_minor": 4
}
